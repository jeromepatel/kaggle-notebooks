{
 "cells": [
  {
   "cell_type": "code",
   "execution_count": 1,
   "id": "virgin-firmware",
   "metadata": {
    "execution": {
     "iopub.execute_input": "2021-04-02T16:23:38.096720Z",
     "iopub.status.busy": "2021-04-02T16:23:38.094958Z",
     "iopub.status.idle": "2021-04-02T16:23:38.097550Z",
     "shell.execute_reply": "2021-04-02T16:23:38.097963Z"
    },
    "papermill": {
     "duration": 0.022523,
     "end_time": "2021-04-02T16:23:38.098196",
     "exception": false,
     "start_time": "2021-04-02T16:23:38.075673",
     "status": "completed"
    },
    "tags": []
   },
   "outputs": [],
   "source": [
    "# import sys\n",
    "# !cp ../input/rapids/rapids.0.18.0 /opt/conda/envs/rapids.tar.gz\n",
    "# !cd /opt/conda/envs/ && tar -xzvf rapids.tar.gz > /dev/null\n",
    "# sys.path = [\"/opt/conda/envs/rapids/lib/python3.7/site-packages\"] + sys.path\n",
    "# sys.path = [\"/opt/conda/envs/rapids/lib/python3.7\"] + sys.path\n",
    "# sys.path = [\"/opt/conda/envs/rapids/lib\"] + sys.path \n",
    "# !cp /opt/conda/envs/rapids/lib/libxgboost.so /opt/conda/lib/"
   ]
  },
  {
   "cell_type": "code",
   "execution_count": 2,
   "id": "going-dispute",
   "metadata": {
    "_cell_guid": "b1076dfc-b9ad-4769-8c92-a6c4dae69d19",
    "_uuid": "8f2839f25d086af736a60e9eeb907d3b93b6e0e5",
    "execution": {
     "iopub.execute_input": "2021-04-02T16:23:38.128524Z",
     "iopub.status.busy": "2021-04-02T16:23:38.127991Z",
     "iopub.status.idle": "2021-04-02T16:23:47.693019Z",
     "shell.execute_reply": "2021-04-02T16:23:47.692115Z"
    },
    "papermill": {
     "duration": 9.582712,
     "end_time": "2021-04-02T16:23:47.693184",
     "exception": false,
     "start_time": "2021-04-02T16:23:38.110472",
     "status": "completed"
    },
    "tags": []
   },
   "outputs": [],
   "source": [
    "import pandas as pd\n",
    "import numpy as np \n",
    "import tensorflow as tf \n",
    "import cudf,cupy,cuml\n",
    "import cv2 as cv \n",
    "from PIL import Image\n",
    "import os\n",
    "from tqdm import tqdm\n",
    "import re \n",
    "import string\n",
    "import tensorflow_hub as hub\n",
    "import cv2, matplotlib.pyplot as plt\n",
    "# import tokenization\n",
    "from tensorflow.keras.optimizers import SGD \n",
    "from tensorflow.keras.applications import EfficientNetB0\n",
    "from tensorflow.keras.utils import Sequence\n",
    "from cuml.feature_extraction.text import TfidfVectorizer\n",
    "from cuml.neighbors import NearestNeighbors\n",
    "import cv2 as cv\n",
    "import gc\n",
    "# from transformers import BertTokenizer, BertModel\n",
    "# import transformers\n",
    "# from transformers import *\n",
    "# from tokenizers import BertWordPieceTokenizer\n",
    "# from sklearn.preprocessing import normalize"
   ]
  },
  {
   "cell_type": "code",
   "execution_count": 3,
   "id": "administrative-nepal",
   "metadata": {
    "execution": {
     "iopub.execute_input": "2021-04-02T16:23:47.949572Z",
     "iopub.status.busy": "2021-04-02T16:23:47.948539Z",
     "iopub.status.idle": "2021-04-02T16:23:52.887898Z",
     "shell.execute_reply": "2021-04-02T16:23:52.887355Z"
    },
    "papermill": {
     "duration": 5.182608,
     "end_time": "2021-04-02T16:23:52.888014",
     "exception": false,
     "start_time": "2021-04-02T16:23:47.705406",
     "status": "completed"
    },
    "tags": []
   },
   "outputs": [
    {
     "name": "stdout",
     "output_type": "stream",
     "text": [
      "We will restrict TensorFlow to max 1GB GPU RAM\n",
      "then RAPIDS can use 15GB GPU RAM\n"
     ]
    }
   ],
   "source": [
    "# RESTRICT TENSORFLOW TO 1GB OF GPU RAM\n",
    "# SO THAT WE HAVE 15GB RAM FOR RAPIDS\n",
    "LIMIT = 1\n",
    "gpus = tf.config.experimental.list_physical_devices('GPU')\n",
    "if gpus:\n",
    "  try:\n",
    "    tf.config.experimental.set_virtual_device_configuration(\n",
    "        gpus[0],\n",
    "        [tf.config.experimental.VirtualDeviceConfiguration(memory_limit=1024*LIMIT)])\n",
    "    logical_gpus = tf.config.experimental.list_logical_devices('GPU')\n",
    "    #print(len(gpus), \"Physical GPUs,\", len(logical_gpus), \"Logical GPUs\")\n",
    "  except RuntimeError as e:\n",
    "    print(e)\n",
    "print('We will restrict TensorFlow to max %iGB GPU RAM'%LIMIT)\n",
    "print('then RAPIDS can use %iGB GPU RAM'%(16-LIMIT))"
   ]
  },
  {
   "cell_type": "code",
   "execution_count": 4,
   "id": "hydraulic-craps",
   "metadata": {
    "execution": {
     "iopub.execute_input": "2021-04-02T16:23:52.920836Z",
     "iopub.status.busy": "2021-04-02T16:23:52.920340Z",
     "iopub.status.idle": "2021-04-02T16:23:52.933550Z",
     "shell.execute_reply": "2021-04-02T16:23:52.932938Z"
    },
    "papermill": {
     "duration": 0.032796,
     "end_time": "2021-04-02T16:23:52.933693",
     "exception": false,
     "start_time": "2021-04-02T16:23:52.900897",
     "status": "completed"
    },
    "tags": []
   },
   "outputs": [
    {
     "name": "stdout",
     "output_type": "stream",
     "text": [
      "this submission notebook will compute CV score, but commit notebook will not\n"
     ]
    }
   ],
   "source": [
    "COMPUTE_CV = True\n",
    "\n",
    "test = pd.read_csv('../input/shopee-product-matching/test.csv')\n",
    "if len(test)>3: COMPUTE_CV = False\n",
    "else: print('this submission notebook will compute CV score, but commit notebook will not')\n"
   ]
  },
  {
   "cell_type": "code",
   "execution_count": 5,
   "id": "stopped-relevance",
   "metadata": {
    "execution": {
     "iopub.execute_input": "2021-04-02T16:23:52.963742Z",
     "iopub.status.busy": "2021-04-02T16:23:52.963238Z",
     "iopub.status.idle": "2021-04-02T16:23:53.217517Z",
     "shell.execute_reply": "2021-04-02T16:23:53.218648Z"
    },
    "papermill": {
     "duration": 0.272206,
     "end_time": "2021-04-02T16:23:53.218858",
     "exception": false,
     "start_time": "2021-04-02T16:23:52.946652",
     "status": "completed"
    },
    "tags": []
   },
   "outputs": [
    {
     "name": "stdout",
     "output_type": "stream",
     "text": [
      "train shape is (34250, 5)\n"
     ]
    },
    {
     "data": {
      "text/html": [
       "<div>\n",
       "<style scoped>\n",
       "    .dataframe tbody tr th:only-of-type {\n",
       "        vertical-align: middle;\n",
       "    }\n",
       "\n",
       "    .dataframe tbody tr th {\n",
       "        vertical-align: top;\n",
       "    }\n",
       "\n",
       "    .dataframe thead th {\n",
       "        text-align: right;\n",
       "    }\n",
       "</style>\n",
       "<table border=\"1\" class=\"dataframe\">\n",
       "  <thead>\n",
       "    <tr style=\"text-align: right;\">\n",
       "      <th></th>\n",
       "      <th>posting_id</th>\n",
       "      <th>image</th>\n",
       "      <th>image_phash</th>\n",
       "      <th>title</th>\n",
       "      <th>label_group</th>\n",
       "    </tr>\n",
       "  </thead>\n",
       "  <tbody>\n",
       "    <tr>\n",
       "      <th>0</th>\n",
       "      <td>train_129225211</td>\n",
       "      <td>0000a68812bc7e98c42888dfb1c07da0.jpg</td>\n",
       "      <td>94974f937d4c2433</td>\n",
       "      <td>Paper Bag Victoria Secret</td>\n",
       "      <td>249114794</td>\n",
       "    </tr>\n",
       "    <tr>\n",
       "      <th>1</th>\n",
       "      <td>train_3386243561</td>\n",
       "      <td>00039780dfc94d01db8676fe789ecd05.jpg</td>\n",
       "      <td>af3f9460c2838f0f</td>\n",
       "      <td>Double Tape 3M VHB 12 mm x 4,5 m ORIGINAL / DO...</td>\n",
       "      <td>2937985045</td>\n",
       "    </tr>\n",
       "    <tr>\n",
       "      <th>2</th>\n",
       "      <td>train_2288590299</td>\n",
       "      <td>000a190fdd715a2a36faed16e2c65df7.jpg</td>\n",
       "      <td>b94cb00ed3e50f78</td>\n",
       "      <td>Maling TTS Canned Pork Luncheon Meat 397 gr</td>\n",
       "      <td>2395904891</td>\n",
       "    </tr>\n",
       "    <tr>\n",
       "      <th>3</th>\n",
       "      <td>train_2406599165</td>\n",
       "      <td>00117e4fc239b1b641ff08340b429633.jpg</td>\n",
       "      <td>8514fc58eafea283</td>\n",
       "      <td>Daster Batik Lengan pendek - Motif Acak / Camp...</td>\n",
       "      <td>4093212188</td>\n",
       "    </tr>\n",
       "    <tr>\n",
       "      <th>4</th>\n",
       "      <td>train_3369186413</td>\n",
       "      <td>00136d1cf4edede0203f32f05f660588.jpg</td>\n",
       "      <td>a6f319f924ad708c</td>\n",
       "      <td>Nescafe \\xc3\\x89clair Latte 220ml</td>\n",
       "      <td>3648931069</td>\n",
       "    </tr>\n",
       "  </tbody>\n",
       "</table>\n",
       "</div>"
      ],
      "text/plain": [
       "         posting_id                                 image       image_phash  \\\n",
       "0   train_129225211  0000a68812bc7e98c42888dfb1c07da0.jpg  94974f937d4c2433   \n",
       "1  train_3386243561  00039780dfc94d01db8676fe789ecd05.jpg  af3f9460c2838f0f   \n",
       "2  train_2288590299  000a190fdd715a2a36faed16e2c65df7.jpg  b94cb00ed3e50f78   \n",
       "3  train_2406599165  00117e4fc239b1b641ff08340b429633.jpg  8514fc58eafea283   \n",
       "4  train_3369186413  00136d1cf4edede0203f32f05f660588.jpg  a6f319f924ad708c   \n",
       "\n",
       "                                               title  label_group  \n",
       "0                          Paper Bag Victoria Secret    249114794  \n",
       "1  Double Tape 3M VHB 12 mm x 4,5 m ORIGINAL / DO...   2937985045  \n",
       "2        Maling TTS Canned Pork Luncheon Meat 397 gr   2395904891  \n",
       "3  Daster Batik Lengan pendek - Motif Acak / Camp...   4093212188  \n",
       "4                  Nescafe \\xc3\\x89clair Latte 220ml   3648931069  "
      ]
     },
     "execution_count": 5,
     "metadata": {},
     "output_type": "execute_result"
    }
   ],
   "source": [
    "\n",
    "train = pd.read_csv('../input/shopee-product-matching/train.csv')\n",
    "# tmp = train.groupby('label_group').posting_id.agg('unique').to_dict()\n",
    "# train['target'] = train.label_group.map(tmp)\n",
    "print('train shape is', train.shape )\n",
    "train.head()\n"
   ]
  },
  {
   "cell_type": "code",
   "execution_count": 6,
   "id": "parliamentary-county",
   "metadata": {
    "execution": {
     "iopub.execute_input": "2021-04-02T16:23:53.281963Z",
     "iopub.status.busy": "2021-04-02T16:23:53.281007Z",
     "iopub.status.idle": "2021-04-02T16:23:53.286595Z",
     "shell.execute_reply": "2021-04-02T16:23:53.287190Z"
    },
    "papermill": {
     "duration": 0.041949,
     "end_time": "2021-04-02T16:23:53.287583",
     "exception": false,
     "start_time": "2021-04-02T16:23:53.245634",
     "status": "completed"
    },
    "tags": []
   },
   "outputs": [],
   "source": [
    "def getMetric(col):\n",
    "    def f1score(row):\n",
    "        n = len( np.intersect1d(row.target,row[col]) )\n",
    "        return 2*n / (len(row.target)+len(row[col]))\n",
    "    return f1score\n",
    "def clean(title):\n",
    "    \"\"\"This function, allows to clean title from useless characters and symbols.\n",
    "    \n",
    "    @ params :\n",
    "    title(str) : the title text that the function will clean up.\n",
    "    \n",
    "    @ returns :\n",
    "    title(str) : cleaned title\n",
    "\n",
    "    \n",
    "    \"\"\"\n",
    "    title = re.sub(r\"\\-\",\" \",title)\n",
    "    title = re.sub(r\"\\+\",\" \",title)\n",
    "    title = re.sub (r\"&\",\"and\",title)\n",
    "    title = re.sub(r\"\\|\",\" \",title)\n",
    "    title = re.sub(r\"\\\\\",\" \",title)\n",
    "    title = re.sub(r\"\\W\",\" \",title)\n",
    "    for p in string.punctuation :\n",
    "        title = re.sub(r\"f{p}\",\" \",title)\n",
    "    \n",
    "    title = re.sub(r\"\\s+\",\" \",title)\n",
    "    \n",
    "    return title"
   ]
  },
  {
   "cell_type": "code",
   "execution_count": 7,
   "id": "honey-denmark",
   "metadata": {
    "execution": {
     "iopub.execute_input": "2021-04-02T16:23:53.349853Z",
     "iopub.status.busy": "2021-04-02T16:23:53.349104Z",
     "iopub.status.idle": "2021-04-02T16:23:53.581529Z",
     "shell.execute_reply": "2021-04-02T16:23:53.581097Z"
    },
    "papermill": {
     "duration": 0.266423,
     "end_time": "2021-04-02T16:23:53.581651",
     "exception": false,
     "start_time": "2021-04-02T16:23:53.315228",
     "status": "completed"
    },
    "tags": []
   },
   "outputs": [
    {
     "name": "stdout",
     "output_type": "stream",
     "text": [
      "Using train as test to compute CV (since commit notebook). Shape is (34250, 5)\n"
     ]
    },
    {
     "data": {
      "text/html": [
       "<div>\n",
       "<style scoped>\n",
       "    .dataframe tbody tr th:only-of-type {\n",
       "        vertical-align: middle;\n",
       "    }\n",
       "\n",
       "    .dataframe tbody tr th {\n",
       "        vertical-align: top;\n",
       "    }\n",
       "\n",
       "    .dataframe thead th {\n",
       "        text-align: right;\n",
       "    }\n",
       "</style>\n",
       "<table border=\"1\" class=\"dataframe\">\n",
       "  <thead>\n",
       "    <tr style=\"text-align: right;\">\n",
       "      <th></th>\n",
       "      <th>posting_id</th>\n",
       "      <th>image</th>\n",
       "      <th>image_phash</th>\n",
       "      <th>title</th>\n",
       "      <th>label_group</th>\n",
       "    </tr>\n",
       "  </thead>\n",
       "  <tbody>\n",
       "    <tr>\n",
       "      <th>0</th>\n",
       "      <td>train_129225211</td>\n",
       "      <td>0000a68812bc7e98c42888dfb1c07da0.jpg</td>\n",
       "      <td>94974f937d4c2433</td>\n",
       "      <td>Paper Bag Victoria Secret</td>\n",
       "      <td>249114794</td>\n",
       "    </tr>\n",
       "    <tr>\n",
       "      <th>1</th>\n",
       "      <td>train_3386243561</td>\n",
       "      <td>00039780dfc94d01db8676fe789ecd05.jpg</td>\n",
       "      <td>af3f9460c2838f0f</td>\n",
       "      <td>Double Tape 3M VHB 12 mm x 4,5 m ORIGINAL / DO...</td>\n",
       "      <td>2937985045</td>\n",
       "    </tr>\n",
       "    <tr>\n",
       "      <th>2</th>\n",
       "      <td>train_2288590299</td>\n",
       "      <td>000a190fdd715a2a36faed16e2c65df7.jpg</td>\n",
       "      <td>b94cb00ed3e50f78</td>\n",
       "      <td>Maling TTS Canned Pork Luncheon Meat 397 gr</td>\n",
       "      <td>2395904891</td>\n",
       "    </tr>\n",
       "    <tr>\n",
       "      <th>3</th>\n",
       "      <td>train_2406599165</td>\n",
       "      <td>00117e4fc239b1b641ff08340b429633.jpg</td>\n",
       "      <td>8514fc58eafea283</td>\n",
       "      <td>Daster Batik Lengan pendek - Motif Acak / Camp...</td>\n",
       "      <td>4093212188</td>\n",
       "    </tr>\n",
       "    <tr>\n",
       "      <th>4</th>\n",
       "      <td>train_3369186413</td>\n",
       "      <td>00136d1cf4edede0203f32f05f660588.jpg</td>\n",
       "      <td>a6f319f924ad708c</td>\n",
       "      <td>Nescafe \\xc3\\x89clair Latte 220ml</td>\n",
       "      <td>3648931069</td>\n",
       "    </tr>\n",
       "  </tbody>\n",
       "</table>\n",
       "</div>"
      ],
      "text/plain": [
       "         posting_id                                 image       image_phash  \\\n",
       "0   train_129225211  0000a68812bc7e98c42888dfb1c07da0.jpg  94974f937d4c2433   \n",
       "1  train_3386243561  00039780dfc94d01db8676fe789ecd05.jpg  af3f9460c2838f0f   \n",
       "2  train_2288590299  000a190fdd715a2a36faed16e2c65df7.jpg  b94cb00ed3e50f78   \n",
       "3  train_2406599165  00117e4fc239b1b641ff08340b429633.jpg  8514fc58eafea283   \n",
       "4  train_3369186413  00136d1cf4edede0203f32f05f660588.jpg  a6f319f924ad708c   \n",
       "\n",
       "                                               title  label_group  \n",
       "0                          Paper Bag Victoria Secret    249114794  \n",
       "1  Double Tape 3M VHB 12 mm x 4,5 m ORIGINAL / DO...   2937985045  \n",
       "2        Maling TTS Canned Pork Luncheon Meat 397 gr   2395904891  \n",
       "3  Daster Batik Lengan pendek - Motif Acak / Camp...   4093212188  \n",
       "4                  Nescafe \\xc3\\x89clair Latte 220ml   3648931069  "
      ]
     },
     "execution_count": 7,
     "metadata": {},
     "output_type": "execute_result"
    }
   ],
   "source": [
    "if COMPUTE_CV:\n",
    "    test = pd.read_csv('../input/shopee-product-matching/train.csv')\n",
    "    test_gf = cudf.DataFrame(test)\n",
    "    print('Using train as test to compute CV (since commit notebook). Shape is', test_gf.shape )\n",
    "else:\n",
    "    test = pd.read_csv('../input/shopee-product-matching/test.csv')\n",
    "    test_gf = cudf.read_csv('../input/shopee-product-matching/test.csv')\n",
    "    print('Test shape is', test_gf.shape )\n",
    "test_gf.head()"
   ]
  },
  {
   "cell_type": "code",
   "execution_count": 8,
   "id": "intended-martin",
   "metadata": {
    "execution": {
     "iopub.execute_input": "2021-04-02T16:23:53.620855Z",
     "iopub.status.busy": "2021-04-02T16:23:53.619715Z",
     "iopub.status.idle": "2021-04-02T16:23:53.622301Z",
     "shell.execute_reply": "2021-04-02T16:23:53.622703Z"
    },
    "papermill": {
     "duration": 0.026385,
     "end_time": "2021-04-02T16:23:53.622830",
     "exception": false,
     "start_time": "2021-04-02T16:23:53.596445",
     "status": "completed"
    },
    "tags": []
   },
   "outputs": [],
   "source": [
    "class DataGenerator(tf.keras.utils.Sequence):\n",
    "    'Generates data for Keras'\n",
    "    def __init__(self, df, img_size=256, batch_size=32, path=''): \n",
    "        self.df = df\n",
    "        self.img_size = img_size\n",
    "        self.batch_size = batch_size\n",
    "        self.path = path\n",
    "        self.indexes = np.arange( len(self.df) )\n",
    "        \n",
    "    def __len__(self):\n",
    "        'Denotes the number of batches per epoch'\n",
    "        ct = len(self.df) // self.batch_size\n",
    "        ct += int(( (len(self.df)) % self.batch_size)!=0)\n",
    "        return ct\n",
    "\n",
    "    def __getitem__(self, index):\n",
    "        'Generate one batch of data'\n",
    "        indexes = self.indexes[index*self.batch_size:(index+1)*self.batch_size]\n",
    "        X = self.__data_generation(indexes)\n",
    "        return X\n",
    "            \n",
    "    def __data_generation(self, indexes):\n",
    "        'Generates data containing batch_size samples' \n",
    "        X = np.zeros((len(indexes),self.img_size,self.img_size,3),dtype='float32')\n",
    "        df = self.df.iloc[indexes]\n",
    "        for i,(index,row) in enumerate(df.iterrows()):\n",
    "            img = cv2.imread(self.path+row.image)\n",
    "            X[i,] = cv2.resize(img,(self.img_size,self.img_size)) #/128.0 - 1.0\n",
    "        return X"
   ]
  },
  {
   "cell_type": "code",
   "execution_count": 9,
   "id": "finnish-mistake",
   "metadata": {
    "execution": {
     "iopub.execute_input": "2021-04-02T16:23:53.659569Z",
     "iopub.status.busy": "2021-04-02T16:23:53.659008Z",
     "iopub.status.idle": "2021-04-02T16:29:19.893874Z",
     "shell.execute_reply": "2021-04-02T16:29:19.895129Z"
    },
    "papermill": {
     "duration": 326.258013,
     "end_time": "2021-04-02T16:29:19.895350",
     "exception": false,
     "start_time": "2021-04-02T16:23:53.637337",
     "status": "completed"
    },
    "tags": []
   },
   "outputs": [
    {
     "name": "stdout",
     "output_type": "stream",
     "text": [
      "Computing image embeddings...\n",
      "chunk 0 to 4096\n",
      "128/128 [==============================] - 40s 264ms/step\n",
      "chunk 4096 to 8192\n",
      "128/128 [==============================] - 37s 283ms/step\n",
      "chunk 8192 to 12288\n",
      "128/128 [==============================] - 38s 288ms/step\n",
      "chunk 12288 to 16384\n",
      "128/128 [==============================] - 37s 279ms/step\n",
      "chunk 16384 to 20480\n",
      "128/128 [==============================] - 38s 289ms/step\n",
      "chunk 20480 to 24576\n",
      "128/128 [==============================] - 38s 283ms/step\n",
      "chunk 24576 to 28672\n",
      "128/128 [==============================] - 38s 291ms/step\n",
      "chunk 28672 to 32768\n",
      "128/128 [==============================] - 37s 285ms/step\n",
      "chunk 32768 to 34250\n",
      "47/47 [==============================] - 14s 274ms/step\n",
      "image embeddings shape (34250, 1280)\n"
     ]
    }
   ],
   "source": [
    "BASE = '../input/shopee-product-matching/test_images/'\n",
    "if COMPUTE_CV: BASE = '../input/shopee-product-matching/train_images/'\n",
    "\n",
    "WGT = '../input/effnetb0/efficientnetb0_notop.h5'\n",
    "model = EfficientNetB0(weights=WGT,include_top=False, pooling='avg', input_shape=None)\n",
    "\n",
    "embeds = []\n",
    "CHUNK = 1024*4\n",
    "\n",
    "print('Computing image embeddings...')\n",
    "CTS = len(test)//CHUNK\n",
    "if len(test)%CHUNK!=0: CTS += 1\n",
    "for i,j in enumerate(range( CTS ) ):\n",
    "    \n",
    "    a = j*CHUNK\n",
    "    b = (j+1)*CHUNK\n",
    "    b = min(b,len(test))\n",
    "    print('chunk',a,'to',b)\n",
    "    \n",
    "    test_gen = DataGenerator(test.iloc[a:b], batch_size=32, path=BASE)\n",
    "    image_embeddings = model.predict(test_gen,verbose=1,use_multiprocessing=True, workers=4)\n",
    "    embeds.append(image_embeddings)\n",
    "\n",
    "    #if i>=1: break\n",
    "    \n",
    "del model\n",
    "gc.collect()\n",
    "image_embeddings = np.concatenate(embeds)\n",
    "print('image embeddings shape',image_embeddings.shape)"
   ]
  },
  {
   "cell_type": "code",
   "execution_count": 10,
   "id": "widespread-plane",
   "metadata": {
    "execution": {
     "iopub.execute_input": "2021-04-02T16:29:22.368360Z",
     "iopub.status.busy": "2021-04-02T16:29:22.367475Z",
     "iopub.status.idle": "2021-04-02T16:29:23.267805Z",
     "shell.execute_reply": "2021-04-02T16:29:23.268928Z"
    },
    "papermill": {
     "duration": 1.573537,
     "end_time": "2021-04-02T16:29:23.269156",
     "exception": false,
     "start_time": "2021-04-02T16:29:21.695619",
     "status": "completed"
    },
    "tags": []
   },
   "outputs": [
    {
     "data": {
      "text/plain": [
       "NearestNeighbors(n_neighbors=50, verbose=4, handle=<cuml.raft.common.handle.Handle object at 0x7fee4ca5af50>, algorithm='brute', metric='euclidean', p=2, metric_params=None, output_type='numpy')"
      ]
     },
     "execution_count": 10,
     "metadata": {},
     "output_type": "execute_result"
    }
   ],
   "source": [
    "KNN = 50\n",
    "if len(test)==3: KNN = 2\n",
    "model = NearestNeighbors(n_neighbors=KNN)\n",
    "model.fit(image_embeddings)\n"
   ]
  },
  {
   "cell_type": "code",
   "execution_count": 11,
   "id": "relative-religious",
   "metadata": {
    "execution": {
     "iopub.execute_input": "2021-04-02T16:29:23.987776Z",
     "iopub.status.busy": "2021-04-02T16:29:23.986867Z",
     "iopub.status.idle": "2021-04-02T16:29:34.504346Z",
     "shell.execute_reply": "2021-04-02T16:29:34.503395Z"
    },
    "papermill": {
     "duration": 10.817307,
     "end_time": "2021-04-02T16:29:34.504495",
     "exception": false,
     "start_time": "2021-04-02T16:29:23.687188",
     "status": "completed"
    },
    "tags": []
   },
   "outputs": [
    {
     "name": "stdout",
     "output_type": "stream",
     "text": [
      "Finding similar images...\n",
      "chunk 0 to 4096\n",
      "chunk 4096 to 8192\n",
      "chunk 8192 to 12288\n",
      "chunk 12288 to 16384\n",
      "chunk 16384 to 20480\n",
      "chunk 20480 to 24576\n",
      "chunk 24576 to 28672\n",
      "chunk 28672 to 32768\n",
      "chunk 32768 to 34250\n"
     ]
    },
    {
     "data": {
      "text/plain": [
       "0"
      ]
     },
     "execution_count": 11,
     "metadata": {},
     "output_type": "execute_result"
    }
   ],
   "source": [
    "preds = []\n",
    "CHUNK = 1024*4\n",
    "\n",
    "print('Finding similar images...')\n",
    "CTS = len(image_embeddings)//CHUNK\n",
    "if len(image_embeddings)%CHUNK!=0: CTS += 1\n",
    "for j in range( CTS ):\n",
    "    \n",
    "    a = j*CHUNK\n",
    "    b = (j+1)*CHUNK\n",
    "    b = min(b,len(image_embeddings))\n",
    "    print('chunk',a,'to',b)\n",
    "    distances, indices = model.kneighbors(image_embeddings[a:b,])\n",
    "    \n",
    "    for k in range(b-a):\n",
    "        IDX = np.where(distances[k,]<6.0)[0]\n",
    "        IDS = indices[k,IDX]\n",
    "        o = test.iloc[IDS].posting_id.values\n",
    "        preds.append(o)\n",
    "        \n",
    "del model, distances, indices, image_embeddings, embeds\n",
    "gc.collect()"
   ]
  },
  {
   "cell_type": "code",
   "execution_count": 12,
   "id": "favorite-binding",
   "metadata": {
    "execution": {
     "iopub.execute_input": "2021-04-02T16:29:35.116310Z",
     "iopub.status.busy": "2021-04-02T16:29:35.110359Z",
     "iopub.status.idle": "2021-04-02T16:29:35.119353Z",
     "shell.execute_reply": "2021-04-02T16:29:35.119719Z"
    },
    "papermill": {
     "duration": 0.308898,
     "end_time": "2021-04-02T16:29:35.119855",
     "exception": false,
     "start_time": "2021-04-02T16:29:34.810957",
     "status": "completed"
    },
    "tags": []
   },
   "outputs": [
    {
     "data": {
      "text/html": [
       "<div>\n",
       "<style scoped>\n",
       "    .dataframe tbody tr th:only-of-type {\n",
       "        vertical-align: middle;\n",
       "    }\n",
       "\n",
       "    .dataframe tbody tr th {\n",
       "        vertical-align: top;\n",
       "    }\n",
       "\n",
       "    .dataframe thead th {\n",
       "        text-align: right;\n",
       "    }\n",
       "</style>\n",
       "<table border=\"1\" class=\"dataframe\">\n",
       "  <thead>\n",
       "    <tr style=\"text-align: right;\">\n",
       "      <th></th>\n",
       "      <th>posting_id</th>\n",
       "      <th>image</th>\n",
       "      <th>image_phash</th>\n",
       "      <th>title</th>\n",
       "      <th>label_group</th>\n",
       "      <th>preds2</th>\n",
       "    </tr>\n",
       "  </thead>\n",
       "  <tbody>\n",
       "    <tr>\n",
       "      <th>0</th>\n",
       "      <td>train_129225211</td>\n",
       "      <td>0000a68812bc7e98c42888dfb1c07da0.jpg</td>\n",
       "      <td>94974f937d4c2433</td>\n",
       "      <td>Paper Bag Victoria Secret</td>\n",
       "      <td>249114794</td>\n",
       "      <td>[train_129225211]</td>\n",
       "    </tr>\n",
       "    <tr>\n",
       "      <th>1</th>\n",
       "      <td>train_3386243561</td>\n",
       "      <td>00039780dfc94d01db8676fe789ecd05.jpg</td>\n",
       "      <td>af3f9460c2838f0f</td>\n",
       "      <td>Double Tape 3M VHB 12 mm x 4,5 m ORIGINAL / DO...</td>\n",
       "      <td>2937985045</td>\n",
       "      <td>[train_3386243561, train_3423213080]</td>\n",
       "    </tr>\n",
       "    <tr>\n",
       "      <th>2</th>\n",
       "      <td>train_2288590299</td>\n",
       "      <td>000a190fdd715a2a36faed16e2c65df7.jpg</td>\n",
       "      <td>b94cb00ed3e50f78</td>\n",
       "      <td>Maling TTS Canned Pork Luncheon Meat 397 gr</td>\n",
       "      <td>2395904891</td>\n",
       "      <td>[train_2288590299]</td>\n",
       "    </tr>\n",
       "    <tr>\n",
       "      <th>3</th>\n",
       "      <td>train_2406599165</td>\n",
       "      <td>00117e4fc239b1b641ff08340b429633.jpg</td>\n",
       "      <td>8514fc58eafea283</td>\n",
       "      <td>Daster Batik Lengan pendek - Motif Acak / Camp...</td>\n",
       "      <td>4093212188</td>\n",
       "      <td>[train_2406599165]</td>\n",
       "    </tr>\n",
       "    <tr>\n",
       "      <th>4</th>\n",
       "      <td>train_3369186413</td>\n",
       "      <td>00136d1cf4edede0203f32f05f660588.jpg</td>\n",
       "      <td>a6f319f924ad708c</td>\n",
       "      <td>Nescafe \\xc3\\x89clair Latte 220ml</td>\n",
       "      <td>3648931069</td>\n",
       "      <td>[train_3369186413, train_921438619]</td>\n",
       "    </tr>\n",
       "  </tbody>\n",
       "</table>\n",
       "</div>"
      ],
      "text/plain": [
       "         posting_id                                 image       image_phash  \\\n",
       "0   train_129225211  0000a68812bc7e98c42888dfb1c07da0.jpg  94974f937d4c2433   \n",
       "1  train_3386243561  00039780dfc94d01db8676fe789ecd05.jpg  af3f9460c2838f0f   \n",
       "2  train_2288590299  000a190fdd715a2a36faed16e2c65df7.jpg  b94cb00ed3e50f78   \n",
       "3  train_2406599165  00117e4fc239b1b641ff08340b429633.jpg  8514fc58eafea283   \n",
       "4  train_3369186413  00136d1cf4edede0203f32f05f660588.jpg  a6f319f924ad708c   \n",
       "\n",
       "                                               title  label_group  \\\n",
       "0                          Paper Bag Victoria Secret    249114794   \n",
       "1  Double Tape 3M VHB 12 mm x 4,5 m ORIGINAL / DO...   2937985045   \n",
       "2        Maling TTS Canned Pork Luncheon Meat 397 gr   2395904891   \n",
       "3  Daster Batik Lengan pendek - Motif Acak / Camp...   4093212188   \n",
       "4                  Nescafe \\xc3\\x89clair Latte 220ml   3648931069   \n",
       "\n",
       "                                 preds2  \n",
       "0                     [train_129225211]  \n",
       "1  [train_3386243561, train_3423213080]  \n",
       "2                    [train_2288590299]  \n",
       "3                    [train_2406599165]  \n",
       "4   [train_3369186413, train_921438619]  "
      ]
     },
     "execution_count": 12,
     "metadata": {},
     "output_type": "execute_result"
    }
   ],
   "source": [
    "test['preds2'] = preds\n",
    "test.head()\n"
   ]
  },
  {
   "cell_type": "code",
   "execution_count": 13,
   "id": "governmental-complement",
   "metadata": {
    "execution": {
     "iopub.execute_input": "2021-04-02T16:29:35.701421Z",
     "iopub.status.busy": "2021-04-02T16:29:35.700713Z",
     "iopub.status.idle": "2021-04-02T16:29:49.661617Z",
     "shell.execute_reply": "2021-04-02T16:29:49.661194Z"
    },
    "papermill": {
     "duration": 14.25475,
     "end_time": "2021-04-02T16:29:49.661738",
     "exception": false,
     "start_time": "2021-04-02T16:29:35.406988",
     "status": "completed"
    },
    "tags": []
   },
   "outputs": [
    {
     "name": "stdout",
     "output_type": "stream",
     "text": [
      "Computing text embeddings...\n",
      "text embeddings shape (34250, 24939)\n"
     ]
    }
   ],
   "source": [
    "\n",
    "\n",
    "# tokenizer = BertTokenizer.from_pretrained('../input/bert-large-tokenizer')\n",
    "# fast_tokenizer = BertWordPieceTokenizer('../input/bert-large-tokenizer/vocab.txt', lowercase=True )\n",
    "\n",
    "\n",
    "\n",
    "# def fast_encode(texts, tokenizer, chunk_size=35000, maxlen=200):\n",
    "#     tokenizer.enable_truncation(max_length=maxlen)\n",
    "#     tokenizer.enable_padding()\n",
    "#     all_ids = []\n",
    "    \n",
    "#     for i in range(0, len(texts), chunk_size):\n",
    "#         text_chunk = texts[i:i+chunk_size].tolist()\n",
    "#         encs = tokenizer.encode_batch(text_chunk)\n",
    "#         all_ids.extend([enc.ids for enc in encs])\n",
    "    \n",
    "#     return np.array(all_ids)\n",
    "\n",
    "\n",
    "\n",
    "\n",
    "# embeddings = fast_encode(test['title'].values, fast_tokenizer, maxlen=200)\n",
    "# embeddings=normalize(embeddings)\n",
    "# text_embeddings=cupy.array(embeddings)\n",
    "print('Computing text embeddings...')\n",
    "model = TfidfVectorizer(stop_words='english', binary=True, max_features=25_000)\n",
    "text_embeddings = model.fit_transform(test_gf.title).toarray()\n",
    "print('text embeddings shape',text_embeddings.shape)"
   ]
  },
  {
   "cell_type": "code",
   "execution_count": 14,
   "id": "prostate-season",
   "metadata": {
    "execution": {
     "iopub.execute_input": "2021-04-02T16:29:50.257713Z",
     "iopub.status.busy": "2021-04-02T16:29:50.256868Z",
     "iopub.status.idle": "2021-04-02T16:30:21.572613Z",
     "shell.execute_reply": "2021-04-02T16:30:21.573054Z"
    },
    "papermill": {
     "duration": 31.622355,
     "end_time": "2021-04-02T16:30:21.573194",
     "exception": false,
     "start_time": "2021-04-02T16:29:49.950839",
     "status": "completed"
    },
    "tags": []
   },
   "outputs": [
    {
     "name": "stdout",
     "output_type": "stream",
     "text": [
      "Finding similar titles...\n",
      "chunk 0 to 4096\n",
      "chunk 4096 to 8192\n",
      "chunk 8192 to 12288\n",
      "chunk 12288 to 16384\n",
      "chunk 16384 to 20480\n",
      "chunk 20480 to 24576\n",
      "chunk 24576 to 28672\n",
      "chunk 28672 to 32768\n",
      "chunk 32768 to 34250\n"
     ]
    },
    {
     "data": {
      "text/plain": [
       "0"
      ]
     },
     "execution_count": 14,
     "metadata": {},
     "output_type": "execute_result"
    }
   ],
   "source": [
    "preds = []\n",
    "CHUNK = 1024*4\n",
    "\n",
    "print('Finding similar titles...')\n",
    "CTS = len(test)//CHUNK\n",
    "if len(test)%CHUNK!=0: CTS += 1\n",
    "for j in range( CTS ):\n",
    "    \n",
    "    a = j*CHUNK\n",
    "    b = (j+1)*CHUNK\n",
    "    b = min(b,len(test))\n",
    "    print('chunk',a,'to',b)\n",
    "    \n",
    "    # COSINE SIMILARITY DISTANCE\n",
    "    cts = cupy.matmul( text_embeddings, text_embeddings[a:b].T).T\n",
    "    \n",
    "    for k in range(b-a):\n",
    "        IDX = cupy.where(cts[k,]>0.7)[0]\n",
    "        o = test.iloc[cupy.asnumpy(IDX)].posting_id.values\n",
    "        preds.append(o)\n",
    "\n",
    "del text_embeddings      \n",
    "# del text_embeddings, embeddings\n",
    "gc.collect()"
   ]
  },
  {
   "cell_type": "code",
   "execution_count": 15,
   "id": "obvious-summer",
   "metadata": {
    "execution": {
     "iopub.execute_input": "2021-04-02T16:30:22.177188Z",
     "iopub.status.busy": "2021-04-02T16:30:22.160125Z",
     "iopub.status.idle": "2021-04-02T16:30:22.180022Z",
     "shell.execute_reply": "2021-04-02T16:30:22.180519Z"
    },
    "papermill": {
     "duration": 0.316831,
     "end_time": "2021-04-02T16:30:22.180670",
     "exception": false,
     "start_time": "2021-04-02T16:30:21.863839",
     "status": "completed"
    },
    "tags": []
   },
   "outputs": [
    {
     "data": {
      "text/html": [
       "<div>\n",
       "<style scoped>\n",
       "    .dataframe tbody tr th:only-of-type {\n",
       "        vertical-align: middle;\n",
       "    }\n",
       "\n",
       "    .dataframe tbody tr th {\n",
       "        vertical-align: top;\n",
       "    }\n",
       "\n",
       "    .dataframe thead th {\n",
       "        text-align: right;\n",
       "    }\n",
       "</style>\n",
       "<table border=\"1\" class=\"dataframe\">\n",
       "  <thead>\n",
       "    <tr style=\"text-align: right;\">\n",
       "      <th></th>\n",
       "      <th>posting_id</th>\n",
       "      <th>image</th>\n",
       "      <th>image_phash</th>\n",
       "      <th>title</th>\n",
       "      <th>label_group</th>\n",
       "      <th>preds2</th>\n",
       "      <th>preds</th>\n",
       "    </tr>\n",
       "  </thead>\n",
       "  <tbody>\n",
       "    <tr>\n",
       "      <th>0</th>\n",
       "      <td>train_129225211</td>\n",
       "      <td>0000a68812bc7e98c42888dfb1c07da0.jpg</td>\n",
       "      <td>94974f937d4c2433</td>\n",
       "      <td>Paper Bag Victoria Secret</td>\n",
       "      <td>249114794</td>\n",
       "      <td>[train_129225211]</td>\n",
       "      <td>[train_129225211, train_2278313361]</td>\n",
       "    </tr>\n",
       "    <tr>\n",
       "      <th>1</th>\n",
       "      <td>train_3386243561</td>\n",
       "      <td>00039780dfc94d01db8676fe789ecd05.jpg</td>\n",
       "      <td>af3f9460c2838f0f</td>\n",
       "      <td>Double Tape 3M VHB 12 mm x 4,5 m ORIGINAL / DO...</td>\n",
       "      <td>2937985045</td>\n",
       "      <td>[train_3386243561, train_3423213080]</td>\n",
       "      <td>[train_3386243561]</td>\n",
       "    </tr>\n",
       "    <tr>\n",
       "      <th>2</th>\n",
       "      <td>train_2288590299</td>\n",
       "      <td>000a190fdd715a2a36faed16e2c65df7.jpg</td>\n",
       "      <td>b94cb00ed3e50f78</td>\n",
       "      <td>Maling TTS Canned Pork Luncheon Meat 397 gr</td>\n",
       "      <td>2395904891</td>\n",
       "      <td>[train_2288590299]</td>\n",
       "      <td>[train_2288590299]</td>\n",
       "    </tr>\n",
       "    <tr>\n",
       "      <th>3</th>\n",
       "      <td>train_2406599165</td>\n",
       "      <td>00117e4fc239b1b641ff08340b429633.jpg</td>\n",
       "      <td>8514fc58eafea283</td>\n",
       "      <td>Daster Batik Lengan pendek - Motif Acak / Camp...</td>\n",
       "      <td>4093212188</td>\n",
       "      <td>[train_2406599165]</td>\n",
       "      <td>[train_2406599165, train_3576714541, train_150...</td>\n",
       "    </tr>\n",
       "    <tr>\n",
       "      <th>4</th>\n",
       "      <td>train_3369186413</td>\n",
       "      <td>00136d1cf4edede0203f32f05f660588.jpg</td>\n",
       "      <td>a6f319f924ad708c</td>\n",
       "      <td>Nescafe \\xc3\\x89clair Latte 220ml</td>\n",
       "      <td>3648931069</td>\n",
       "      <td>[train_3369186413, train_921438619]</td>\n",
       "      <td>[train_3369186413]</td>\n",
       "    </tr>\n",
       "  </tbody>\n",
       "</table>\n",
       "</div>"
      ],
      "text/plain": [
       "         posting_id                                 image       image_phash  \\\n",
       "0   train_129225211  0000a68812bc7e98c42888dfb1c07da0.jpg  94974f937d4c2433   \n",
       "1  train_3386243561  00039780dfc94d01db8676fe789ecd05.jpg  af3f9460c2838f0f   \n",
       "2  train_2288590299  000a190fdd715a2a36faed16e2c65df7.jpg  b94cb00ed3e50f78   \n",
       "3  train_2406599165  00117e4fc239b1b641ff08340b429633.jpg  8514fc58eafea283   \n",
       "4  train_3369186413  00136d1cf4edede0203f32f05f660588.jpg  a6f319f924ad708c   \n",
       "\n",
       "                                               title  label_group  \\\n",
       "0                          Paper Bag Victoria Secret    249114794   \n",
       "1  Double Tape 3M VHB 12 mm x 4,5 m ORIGINAL / DO...   2937985045   \n",
       "2        Maling TTS Canned Pork Luncheon Meat 397 gr   2395904891   \n",
       "3  Daster Batik Lengan pendek - Motif Acak / Camp...   4093212188   \n",
       "4                  Nescafe \\xc3\\x89clair Latte 220ml   3648931069   \n",
       "\n",
       "                                 preds2  \\\n",
       "0                     [train_129225211]   \n",
       "1  [train_3386243561, train_3423213080]   \n",
       "2                    [train_2288590299]   \n",
       "3                    [train_2406599165]   \n",
       "4   [train_3369186413, train_921438619]   \n",
       "\n",
       "                                               preds  \n",
       "0                [train_129225211, train_2278313361]  \n",
       "1                                 [train_3386243561]  \n",
       "2                                 [train_2288590299]  \n",
       "3  [train_2406599165, train_3576714541, train_150...  \n",
       "4                                 [train_3369186413]  "
      ]
     },
     "execution_count": 15,
     "metadata": {},
     "output_type": "execute_result"
    }
   ],
   "source": [
    "test['preds'] = preds\n",
    "test.head()"
   ]
  },
  {
   "cell_type": "code",
   "execution_count": 16,
   "id": "hungry-motivation",
   "metadata": {
    "execution": {
     "iopub.execute_input": "2021-04-02T16:30:22.773813Z",
     "iopub.status.busy": "2021-04-02T16:30:22.772984Z",
     "iopub.status.idle": "2021-04-02T16:30:24.563354Z",
     "shell.execute_reply": "2021-04-02T16:30:24.563747Z"
    },
    "papermill": {
     "duration": 2.090518,
     "end_time": "2021-04-02T16:30:24.563900",
     "exception": false,
     "start_time": "2021-04-02T16:30:22.473382",
     "status": "completed"
    },
    "tags": []
   },
   "outputs": [
    {
     "data": {
      "text/html": [
       "<div>\n",
       "<style scoped>\n",
       "    .dataframe tbody tr th:only-of-type {\n",
       "        vertical-align: middle;\n",
       "    }\n",
       "\n",
       "    .dataframe tbody tr th {\n",
       "        vertical-align: top;\n",
       "    }\n",
       "\n",
       "    .dataframe thead th {\n",
       "        text-align: right;\n",
       "    }\n",
       "</style>\n",
       "<table border=\"1\" class=\"dataframe\">\n",
       "  <thead>\n",
       "    <tr style=\"text-align: right;\">\n",
       "      <th></th>\n",
       "      <th>posting_id</th>\n",
       "      <th>image</th>\n",
       "      <th>image_phash</th>\n",
       "      <th>title</th>\n",
       "      <th>label_group</th>\n",
       "      <th>preds2</th>\n",
       "      <th>preds</th>\n",
       "      <th>preds3</th>\n",
       "    </tr>\n",
       "  </thead>\n",
       "  <tbody>\n",
       "    <tr>\n",
       "      <th>0</th>\n",
       "      <td>train_129225211</td>\n",
       "      <td>0000a68812bc7e98c42888dfb1c07da0.jpg</td>\n",
       "      <td>94974f937d4c2433</td>\n",
       "      <td>Paper Bag Victoria Secret</td>\n",
       "      <td>249114794</td>\n",
       "      <td>[train_129225211]</td>\n",
       "      <td>[train_129225211, train_2278313361]</td>\n",
       "      <td>[train_129225211]</td>\n",
       "    </tr>\n",
       "    <tr>\n",
       "      <th>1</th>\n",
       "      <td>train_3386243561</td>\n",
       "      <td>00039780dfc94d01db8676fe789ecd05.jpg</td>\n",
       "      <td>af3f9460c2838f0f</td>\n",
       "      <td>Double Tape 3M VHB 12 mm x 4,5 m ORIGINAL / DO...</td>\n",
       "      <td>2937985045</td>\n",
       "      <td>[train_3386243561, train_3423213080]</td>\n",
       "      <td>[train_3386243561]</td>\n",
       "      <td>[train_3386243561]</td>\n",
       "    </tr>\n",
       "    <tr>\n",
       "      <th>2</th>\n",
       "      <td>train_2288590299</td>\n",
       "      <td>000a190fdd715a2a36faed16e2c65df7.jpg</td>\n",
       "      <td>b94cb00ed3e50f78</td>\n",
       "      <td>Maling TTS Canned Pork Luncheon Meat 397 gr</td>\n",
       "      <td>2395904891</td>\n",
       "      <td>[train_2288590299]</td>\n",
       "      <td>[train_2288590299]</td>\n",
       "      <td>[train_2288590299]</td>\n",
       "    </tr>\n",
       "    <tr>\n",
       "      <th>3</th>\n",
       "      <td>train_2406599165</td>\n",
       "      <td>00117e4fc239b1b641ff08340b429633.jpg</td>\n",
       "      <td>8514fc58eafea283</td>\n",
       "      <td>Daster Batik Lengan pendek - Motif Acak / Camp...</td>\n",
       "      <td>4093212188</td>\n",
       "      <td>[train_2406599165]</td>\n",
       "      <td>[train_2406599165, train_3576714541, train_150...</td>\n",
       "      <td>[train_2406599165]</td>\n",
       "    </tr>\n",
       "    <tr>\n",
       "      <th>4</th>\n",
       "      <td>train_3369186413</td>\n",
       "      <td>00136d1cf4edede0203f32f05f660588.jpg</td>\n",
       "      <td>a6f319f924ad708c</td>\n",
       "      <td>Nescafe \\xc3\\x89clair Latte 220ml</td>\n",
       "      <td>3648931069</td>\n",
       "      <td>[train_3369186413, train_921438619]</td>\n",
       "      <td>[train_3369186413]</td>\n",
       "      <td>[train_3369186413]</td>\n",
       "    </tr>\n",
       "  </tbody>\n",
       "</table>\n",
       "</div>"
      ],
      "text/plain": [
       "         posting_id                                 image       image_phash  \\\n",
       "0   train_129225211  0000a68812bc7e98c42888dfb1c07da0.jpg  94974f937d4c2433   \n",
       "1  train_3386243561  00039780dfc94d01db8676fe789ecd05.jpg  af3f9460c2838f0f   \n",
       "2  train_2288590299  000a190fdd715a2a36faed16e2c65df7.jpg  b94cb00ed3e50f78   \n",
       "3  train_2406599165  00117e4fc239b1b641ff08340b429633.jpg  8514fc58eafea283   \n",
       "4  train_3369186413  00136d1cf4edede0203f32f05f660588.jpg  a6f319f924ad708c   \n",
       "\n",
       "                                               title  label_group  \\\n",
       "0                          Paper Bag Victoria Secret    249114794   \n",
       "1  Double Tape 3M VHB 12 mm x 4,5 m ORIGINAL / DO...   2937985045   \n",
       "2        Maling TTS Canned Pork Luncheon Meat 397 gr   2395904891   \n",
       "3  Daster Batik Lengan pendek - Motif Acak / Camp...   4093212188   \n",
       "4                  Nescafe \\xc3\\x89clair Latte 220ml   3648931069   \n",
       "\n",
       "                                 preds2  \\\n",
       "0                     [train_129225211]   \n",
       "1  [train_3386243561, train_3423213080]   \n",
       "2                    [train_2288590299]   \n",
       "3                    [train_2406599165]   \n",
       "4   [train_3369186413, train_921438619]   \n",
       "\n",
       "                                               preds              preds3  \n",
       "0                [train_129225211, train_2278313361]   [train_129225211]  \n",
       "1                                 [train_3386243561]  [train_3386243561]  \n",
       "2                                 [train_2288590299]  [train_2288590299]  \n",
       "3  [train_2406599165, train_3576714541, train_150...  [train_2406599165]  \n",
       "4                                 [train_3369186413]  [train_3369186413]  "
      ]
     },
     "execution_count": 16,
     "metadata": {},
     "output_type": "execute_result"
    }
   ],
   "source": [
    "\n",
    "tmp = test.groupby('image_phash').posting_id.agg('unique').to_dict()\n",
    "test['preds3'] = test.image_phash.map(tmp)\n",
    "test.head()\n",
    "\n"
   ]
  },
  {
   "cell_type": "code",
   "execution_count": 17,
   "id": "confident-parcel",
   "metadata": {
    "execution": {
     "iopub.execute_input": "2021-04-02T16:30:25.295807Z",
     "iopub.status.busy": "2021-04-02T16:30:25.294881Z",
     "iopub.status.idle": "2021-04-02T16:30:25.298003Z",
     "shell.execute_reply": "2021-04-02T16:30:25.298579Z"
    },
    "papermill": {
     "duration": 0.4408,
     "end_time": "2021-04-02T16:30:25.298765",
     "exception": false,
     "start_time": "2021-04-02T16:30:24.857965",
     "status": "completed"
    },
    "tags": []
   },
   "outputs": [],
   "source": [
    "def combine_for_sub(row):\n",
    "    x = np.concatenate([row.preds,row.preds2, row.preds3])\n",
    "    return ' '.join( np.unique(x) )\n",
    "\n",
    "def combine_for_cv(row):\n",
    "    x = np.concatenate([row.preds,row.preds2, row.preds3])\n",
    "    return np.unique(x)"
   ]
  },
  {
   "cell_type": "code",
   "execution_count": 18,
   "id": "packed-exhibit",
   "metadata": {
    "execution": {
     "iopub.execute_input": "2021-04-02T16:30:26.220117Z",
     "iopub.status.busy": "2021-04-02T16:30:26.219541Z",
     "iopub.status.idle": "2021-04-02T16:30:33.639135Z",
     "shell.execute_reply": "2021-04-02T16:30:33.638594Z"
    },
    "papermill": {
     "duration": 7.838589,
     "end_time": "2021-04-02T16:30:33.639272",
     "exception": false,
     "start_time": "2021-04-02T16:30:25.800683",
     "status": "completed"
    },
    "tags": []
   },
   "outputs": [
    {
     "name": "stdout",
     "output_type": "stream",
     "text": [
      "CV Score = 0.7248077230326005\n"
     ]
    }
   ],
   "source": [
    "if COMPUTE_CV:\n",
    "    tmp = test.groupby('label_group').posting_id.agg('unique').to_dict()\n",
    "    test['target'] = test.label_group.map(tmp)\n",
    "    test['oof'] = test.apply(combine_for_cv,axis=1)\n",
    "    test['f1'] = test.apply(getMetric('oof'),axis=1)\n",
    "    print('CV Score =', test.f1.mean() )\n",
    "\n",
    "test['matches'] = test.apply(combine_for_sub,axis=1)"
   ]
  },
  {
   "cell_type": "code",
   "execution_count": 19,
   "id": "descending-drawing",
   "metadata": {
    "execution": {
     "iopub.execute_input": "2021-04-02T16:30:34.232125Z",
     "iopub.status.busy": "2021-04-02T16:30:34.231249Z",
     "iopub.status.idle": "2021-04-02T16:30:34.525101Z",
     "shell.execute_reply": "2021-04-02T16:30:34.525516Z"
    },
    "papermill": {
     "duration": 0.592111,
     "end_time": "2021-04-02T16:30:34.525670",
     "exception": false,
     "start_time": "2021-04-02T16:30:33.933559",
     "status": "completed"
    },
    "tags": []
   },
   "outputs": [
    {
     "data": {
      "text/html": [
       "<div>\n",
       "<style scoped>\n",
       "    .dataframe tbody tr th:only-of-type {\n",
       "        vertical-align: middle;\n",
       "    }\n",
       "\n",
       "    .dataframe tbody tr th {\n",
       "        vertical-align: top;\n",
       "    }\n",
       "\n",
       "    .dataframe thead th {\n",
       "        text-align: right;\n",
       "    }\n",
       "</style>\n",
       "<table border=\"1\" class=\"dataframe\">\n",
       "  <thead>\n",
       "    <tr style=\"text-align: right;\">\n",
       "      <th></th>\n",
       "      <th>posting_id</th>\n",
       "      <th>matches</th>\n",
       "    </tr>\n",
       "  </thead>\n",
       "  <tbody>\n",
       "    <tr>\n",
       "      <th>0</th>\n",
       "      <td>train_129225211</td>\n",
       "      <td>train_129225211 train_2278313361</td>\n",
       "    </tr>\n",
       "    <tr>\n",
       "      <th>1</th>\n",
       "      <td>train_3386243561</td>\n",
       "      <td>train_3386243561 train_3423213080</td>\n",
       "    </tr>\n",
       "    <tr>\n",
       "      <th>2</th>\n",
       "      <td>train_2288590299</td>\n",
       "      <td>train_2288590299</td>\n",
       "    </tr>\n",
       "    <tr>\n",
       "      <th>3</th>\n",
       "      <td>train_2406599165</td>\n",
       "      <td>train_1508100548 train_1744956981 train_240659...</td>\n",
       "    </tr>\n",
       "    <tr>\n",
       "      <th>4</th>\n",
       "      <td>train_3369186413</td>\n",
       "      <td>train_3369186413 train_921438619</td>\n",
       "    </tr>\n",
       "  </tbody>\n",
       "</table>\n",
       "</div>"
      ],
      "text/plain": [
       "         posting_id                                            matches\n",
       "0   train_129225211                   train_129225211 train_2278313361\n",
       "1  train_3386243561                  train_3386243561 train_3423213080\n",
       "2  train_2288590299                                   train_2288590299\n",
       "3  train_2406599165  train_1508100548 train_1744956981 train_240659...\n",
       "4  train_3369186413                   train_3369186413 train_921438619"
      ]
     },
     "execution_count": 19,
     "metadata": {},
     "output_type": "execute_result"
    }
   ],
   "source": [
    "test[['posting_id','matches']].to_csv('submission.csv',index=False)\n",
    "sub = pd.read_csv('submission.csv')\n",
    "sub.head()"
   ]
  },
  {
   "cell_type": "code",
   "execution_count": null,
   "id": "olive-lighting",
   "metadata": {
    "papermill": {
     "duration": 0.30992,
     "end_time": "2021-04-02T16:30:35.129424",
     "exception": false,
     "start_time": "2021-04-02T16:30:34.819504",
     "status": "completed"
    },
    "tags": []
   },
   "outputs": [],
   "source": []
  }
 ],
 "metadata": {
  "kernelspec": {
   "display_name": "Python 3",
   "language": "python",
   "name": "python3"
  },
  "language_info": {
   "codemirror_mode": {
    "name": "ipython",
    "version": 3
   },
   "file_extension": ".py",
   "mimetype": "text/x-python",
   "name": "python",
   "nbconvert_exporter": "python",
   "pygments_lexer": "ipython3",
   "version": "3.7.9"
  },
  "papermill": {
   "default_parameters": {},
   "duration": 425.996528,
   "end_time": "2021-04-02T16:30:38.629249",
   "environment_variables": {},
   "exception": null,
   "input_path": "__notebook__.ipynb",
   "output_path": "__notebook__.ipynb",
   "parameters": {},
   "start_time": "2021-04-02T16:23:32.632721",
   "version": "2.3.2"
  }
 },
 "nbformat": 4,
 "nbformat_minor": 5
}
